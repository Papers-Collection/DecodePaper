{
 "cells": [
  {
   "cell_type": "code",
   "execution_count": 1,
   "metadata": {
    "ExecuteTime": {
     "end_time": "2019-02-27T10:58:45.408477Z",
     "start_time": "2019-02-27T10:58:28.423335Z"
    },
    "scrolled": true
   },
   "outputs": [
    {
     "name": "stderr",
     "output_type": "stream",
     "text": [
      "C:\\ProgramData\\Anaconda3\\lib\\site-packages\\h5py\\__init__.py:36: FutureWarning: Conversion of the second argument of issubdtype from `float` to `np.floating` is deprecated. In future, it will be treated as `np.float64 == np.dtype(float).type`.\n",
      "  from ._conv import register_converters as _register_converters\n"
     ]
    },
    {
     "data": {
      "image/png": "[encoded data removed]",
      "text/plain": [
       "<Figure size 432x288 with 1 Axes>"
      ]
     },
     "metadata": {},
     "output_type": "display_data"
    }
   ],
   "source": [
    "%matplotlib inline\n",
    "import numpy as np\n",
    "import matplotlib.pyplot as plt\n",
    "from sklearn.metrics.pairwise import cosine_distances, euclidean_distances\n",
    "from scipy import stats\n",
    "from sklearn.svm import SVC\n",
    "\n",
    "import sys\n",
    "sys.path.append('D:/API/DecodePaper/lab')  # 见\n",
    "from dataset import split, SimpleDataset\n",
    "datasetName = 'mnist'\n",
    "dataset = SimpleDataset(datasetName)\n",
    "\n",
    "\n",
    "def show_gray(img):\n",
    "    plt.imshow(img, interpolation=\"nearest\", cmap=\"gray\")\n",
    "    plt.show()\n",
    "    \n",
    "show_gray(dataset.trainX[0])"
   ]
  },
  {
   "cell_type": "markdown",
   "metadata": {},
   "source": [
    "## 数据预处理"
   ]
  },
  {
   "cell_type": "code",
   "execution_count": 2,
   "metadata": {
    "ExecuteTime": {
     "end_time": "2019-02-27T10:58:45.463481Z",
     "start_time": "2019-02-27T10:58:45.450475Z"
    }
   },
   "outputs": [],
   "source": [
    "def analyse_data(y, L):\n",
    "    label_L, count_L = np.unique(y[:L], return_counts=True)\n",
    "    label_U, count_U = np.unique(y[L:], return_counts=True)\n",
    "    if np.any(label_L != label_U):\n",
    "        print(\"Test data has unknown labels. Please re-select again.\")\n",
    "        return\n",
    "    colors = np.random.rand(len(label_L), 3)\n",
    "    plt.figure(figsize=(6, 6))\n",
    "    for i, label in enumerate(label_L):\n",
    "        plt.bar(1.5, count_L[i], width=0.3, bottom=np.sum(\n",
    "            count_L[:i]), alpha=0.8, color=colors[i], label=str(label))\n",
    "        plt.bar(3, count_U[i], width=0.3, bottom=np.sum(\n",
    "            count_U[:i]), alpha=0.8, color=colors[i])\n",
    "    plt.title(\"The paritition of dataset\")\n",
    "    plt.xticks([1.5, 3], ['labeled', 'unlabeled'])\n",
    "    plt.grid()\n",
    "    plt.legend()\n",
    "    plt.show()"
   ]
  },
  {
   "cell_type": "markdown",
   "metadata": {},
   "source": [
    "### Mnist"
   ]
  },
  {
   "cell_type": "code",
   "execution_count": 3,
   "metadata": {
    "ExecuteTime": {
     "end_time": "2019-02-27T10:58:45.501476Z",
     "start_time": "2019-02-27T10:58:45.493473Z"
    }
   },
   "outputs": [],
   "source": [
    "class SelectData:\n",
    "    def __init__(self, X, Y):\n",
    "        self.X = X\n",
    "        self.Y = Y\n",
    "\n",
    "    def select(self, index_list):\n",
    "        '''\n",
    "        依据 a 来选择数据\n",
    "        '''\n",
    "        idx = np.in1d(self.Y, index_list)\n",
    "        return self.X[idx], self.Y[idx]"
   ]
  },
  {
   "cell_type": "code",
   "execution_count": 4,
   "metadata": {
    "ExecuteTime": {
     "end_time": "2019-02-27T10:58:46.090511Z",
     "start_time": "2019-02-27T10:58:45.875473Z"
    }
   },
   "outputs": [
    {
     "name": "stdout",
     "output_type": "stream",
     "text": [
      "Load Mnist data...\n",
      "\n",
      "Data shape:  (3000, 784)\n",
      "\n",
      "Labeled num:  15\n",
      "\n",
      "Unlabeld num:  2985\n"
     ]
    },
    {
     "data": {
      "image/png": "[encoded data removed]",
      "text/plain": [
       "<Figure size 432x432 with 1 Axes>"
      ]
     },
     "metadata": {},
     "output_type": "display_data"
    }
   ],
   "source": [
    "x_train, y_train = SelectData(dataset.trainX, dataset.trainY).select([3, 4])\n",
    "n = x_train.shape[0]  # 样本数\n",
    "train_size = 3000\n",
    "\n",
    "# shuffle data\n",
    "idx = np.random.permutation(n)\n",
    "xs = x_train[idx][:train_size].reshape((-1, 28*28))\n",
    "ys = y_train[idx][:train_size]\n",
    "\n",
    "percent_u = .995 # 无标签数据占比\n",
    "U = int(percent_u * train_size)\n",
    "L =  train_size-U\n",
    "\n",
    "x_l = xs[:L]\n",
    "x_u = xs[L:]\n",
    "y_l = ys[:L]\n",
    "y_u = ys[L:]\n",
    "print(\"Load Mnist data...\\n\")\n",
    "print(\"Data shape: \", xs.shape)\n",
    "print(\"\\nLabeled num: \", L)\n",
    "print(\"\\nUnlabeld num: \", U)\n",
    "analyse_data(ys, L)"
   ]
  },
  {
   "cell_type": "markdown",
   "metadata": {},
   "source": [
    "## Baseline 1NN"
   ]
  },
  {
   "cell_type": "code",
   "execution_count": 5,
   "metadata": {
    "ExecuteTime": {
     "end_time": "2019-02-27T10:59:04.387390Z",
     "start_time": "2019-02-27T10:59:04.382389Z"
    }
   },
   "outputs": [],
   "source": [
    "from sklearn.metrics import pairwise_distances"
   ]
  },
  {
   "cell_type": "code",
   "execution_count": 6,
   "metadata": {
    "ExecuteTime": {
     "end_time": "2019-02-27T10:59:05.378953Z",
     "start_time": "2019-02-27T10:59:05.367951Z"
    }
   },
   "outputs": [],
   "source": [
    "class KNN:\n",
    "    def __init__(self, k):\n",
    "        self.k = k\n",
    "\n",
    "    def fit(self, x_l, x_u, y_l):\n",
    "        self.W = pairwise_distances(x_l, x_u, metric='cosine')\n",
    "        self.labels = y_l\n",
    "\n",
    "    def score(self, Yu):\n",
    "        return (self.predict() == Yu).mean()\n",
    "\n",
    "    def predict(self):\n",
    "        idx = np.argsort(self.W, axis=0)[:self.k]\n",
    "        bag = self.labels[idx]\n",
    "        predict, _ = stats.mode(bag, axis=0)\n",
    "        return predict.reshape((-1))"
   ]
  },
  {
   "cell_type": "code",
   "execution_count": 7,
   "metadata": {
    "ExecuteTime": {
     "end_time": "2019-02-27T10:59:07.440085Z",
     "start_time": "2019-02-27T10:59:07.372084Z"
    },
    "scrolled": true
   },
   "outputs": [
    {
     "name": "stdout",
     "output_type": "stream",
     "text": [
      "The score of Diffusion by knn is 0.957789\n"
     ]
    }
   ],
   "source": [
    "M = KNN(1)\n",
    "M.fit(x_l, x_u, y_l)\n",
    "print(\"The score of Diffusion by knn is %f\" % M.score(y_u))"
   ]
  },
  {
   "cell_type": "code",
   "execution_count": 11,
   "metadata": {
    "ExecuteTime": {
     "end_time": "2019-02-27T11:00:11.724154Z",
     "start_time": "2019-02-27T11:00:11.716129Z"
    }
   },
   "outputs": [],
   "source": [
    "def test_knn(x_l,x_u,y_l, y_u):\n",
    "    lk = range(2, 30, 2)\n",
    "    lscore = []\n",
    "    \n",
    "    for k in lk:\n",
    "        M = KNN(k)\n",
    "        M.fit(x_l,x_u,y_l)\n",
    "        lscore.append(M.score(y_u))\n",
    "        \n",
    "    print(\"The best k: %d\" % lk[np.argmax(np.array(lscore))])\n",
    "    print(\"The best score: %f\" % np.max(np.array(lscore)))\n",
    "    plt.figure(figsize=(6, 6))\n",
    "    plt.plot(lk, lscore)\n",
    "    plt.title('The knn score influenced by k')\n",
    "    plt.xlabel('k')\n",
    "    plt.ylabel('accuracy')\n",
    "    plt.grid()\n",
    "    plt.show()"
   ]
  },
  {
   "cell_type": "code",
   "execution_count": 12,
   "metadata": {
    "ExecuteTime": {
     "end_time": "2019-02-27T11:00:13.365954Z",
     "start_time": "2019-02-27T11:00:12.517938Z"
    }
   },
   "outputs": [
    {
     "name": "stdout",
     "output_type": "stream",
     "text": [
      "The best k: 2\n",
      "The best score: 0.892462\n"
     ]
    },
    {
     "data": {
      "image/png": "[encoded data removed]",
      "text/plain": [
       "<Figure size 432x432 with 1 Axes>"
      ]
     },
     "metadata": {},
     "output_type": "display_data"
    }
   ],
   "source": [
    "test_knn(x_l,x_u,y_l, y_u)"
   ]
  },
  {
   "cell_type": "markdown",
   "metadata": {},
   "source": [
    "## Baseline 2 - SVM"
   ]
  },
  {
   "cell_type": "code",
   "execution_count": 13,
   "metadata": {
    "ExecuteTime": {
     "end_time": "2019-02-27T11:00:26.617666Z",
     "start_time": "2019-02-27T11:00:26.529640Z"
    },
    "scrolled": true
   },
   "outputs": [
    {
     "name": "stdout",
     "output_type": "stream",
     "text": [
      "The score of SVM is 0.957789\n"
     ]
    }
   ],
   "source": [
    "clf = SVC(C=100, gamma=0.01)\n",
    "clf.fit(x_l/255, y_l)\n",
    "print(\"The score of SVM is %f\" % (clf.score(x_u/255, y_u)))"
   ]
  },
  {
   "cell_type": "code",
   "execution_count": 14,
   "metadata": {
    "ExecuteTime": {
     "end_time": "2019-02-27T11:00:28.292701Z",
     "start_time": "2019-02-27T11:00:28.283667Z"
    }
   },
   "outputs": [],
   "source": [
    "def test_svm(x_l, y_l, x_u, y_u):\n",
    "    lc = np.arange(1, 5, 0.5)\n",
    "    lscore = []\n",
    "    \n",
    "    for c in lc:\n",
    "        print (c)\n",
    "        clf = SVC(C=c, gamma=0.01)\n",
    "        clf.fit(x_l, y_l)\n",
    "        lscore.append(clf.score(x_u, y_u))\n",
    "\n",
    "    print(\"The best c: %f\" % lc[np.argmax(np.array(lscore))])\n",
    "    print(\"The best score: %f\" % np.max(np.array(lscore)))\n",
    "    plt.figure(figsize=(6, 6))\n",
    "    plt.plot(lc, lscore)\n",
    "    plt.title('The SVM score influenced by c')\n",
    "    plt.xlabel('c')\n",
    "    plt.ylabel('accuracy')\n",
    "    plt.grid()\n",
    "    plt.show()"
   ]
  },
  {
   "cell_type": "code",
   "execution_count": 15,
   "metadata": {
    "ExecuteTime": {
     "end_time": "2019-02-27T11:00:29.975611Z",
     "start_time": "2019-02-27T11:00:29.296584Z"
    },
    "scrolled": true
   },
   "outputs": [
    {
     "name": "stdout",
     "output_type": "stream",
     "text": [
      "1.0\n",
      "1.5\n",
      "2.0\n",
      "2.5\n",
      "3.0\n",
      "3.5\n",
      "4.0\n",
      "4.5\n",
      "The best c: 1.500000\n",
      "The best score: 0.958124\n"
     ]
    },
    {
     "data": {
      "image/png": "[encoded data removed]",
      "text/plain": [
       "<Figure size 432x432 with 1 Axes>"
      ]
     },
     "metadata": {},
     "output_type": "display_data"
    }
   ],
   "source": [
    "test_svm(x_l/255, y_l, x_u/255, y_u)"
   ]
  },
  {
   "cell_type": "markdown",
   "metadata": {},
   "source": [
    "## 1. Classification using simply threshold"
   ]
  },
  {
   "cell_type": "markdown",
   "metadata": {},
   "source": [
    "$$ f_u = (D_{uu} - W_{uu})^{-1} W_{ul} f_l$$"
   ]
  },
  {
   "cell_type": "code",
   "execution_count": 16,
   "metadata": {
    "ExecuteTime": {
     "end_time": "2019-02-27T11:01:11.500291Z",
     "start_time": "2019-02-27T11:01:11.493299Z"
    }
   },
   "outputs": [],
   "source": [
    "def rbf(x, sigma):\n",
    "    return np.exp((-x)/(2 * sigma**2))\n",
    "\n",
    "def one_hot(labels):\n",
    "    set_labels = np.unique(labels)\n",
    "    return (np.tile(labels.reshape((-1, 1)), (1, set_labels.shape[0])) == set_labels).astype(int)"
   ]
  },
  {
   "cell_type": "code",
   "execution_count": 17,
   "metadata": {
    "ExecuteTime": {
     "end_time": "2019-02-27T11:01:12.434308Z",
     "start_time": "2019-02-27T11:01:12.426324Z"
    }
   },
   "outputs": [],
   "source": [
    "class GRFH:\n",
    "    def __init__(self, X, y_l, sigma):\n",
    "        self._X = X\n",
    "        self._sigma = sigma\n",
    "        self.labels = y_l\n",
    "    @property\n",
    "    def sigma(self):\n",
    "        return self._sigma\n",
    "    @sigma.setter\n",
    "    def sigma(self, value):\n",
    "        return value\n",
    "    @property\n",
    "    def W(self):\n",
    "        dm = pairwise_distances(self._X, metric='cosine') # 余弦距离\n",
    "        W = rbf(dm, self.sigma)\n",
    "        np.fill_diagonal(W, 0)   # 对角线全为 0\n",
    "        return W\n",
    "    @property\n",
    "    def D(self):\n",
    "        # calculate D\n",
    "        diago = np.sum(self.W, axis=1)\n",
    "        return np.diag(diago)\n",
    "    \n",
    "    def predict(self):\n",
    "        y = one_hot(self.labels)\n",
    "        L = self.labels.shape[0]\n",
    "        fu = np.dot(np.dot(np.linalg.pinv((self.D - self.W)[L:, L:]), self.W[L:, :L]), y)\n",
    "        return np.unique(self.labels)[np.argmax(fu, axis=1)]\n",
    "\n",
    "    def score(self, yu):\n",
    "        return (self.predict() == yu).mean()"
   ]
  },
  {
   "cell_type": "code",
   "execution_count": 18,
   "metadata": {
    "ExecuteTime": {
     "end_time": "2019-02-27T11:01:39.262964Z",
     "start_time": "2019-02-27T11:01:14.229956Z"
    }
   },
   "outputs": [
    {
     "name": "stdout",
     "output_type": "stream",
     "text": [
      "The score of Diffusion by threshold is 0.522948\n"
     ]
    }
   ],
   "source": [
    "M = GRFH(xs/255, y_l, 5)\n",
    "print(\"The score of Diffusion by threshold is %f\" % M.score(y_u))"
   ]
  },
  {
   "cell_type": "markdown",
   "metadata": {},
   "source": [
    "\n",
    "## 2. Incorporation of Class Prior : CMN with weights fixed by advance"
   ]
  },
  {
   "cell_type": "code",
   "execution_count": 25,
   "metadata": {
    "ExecuteTime": {
     "end_time": "2019-02-27T11:07:49.291663Z",
     "start_time": "2019-02-27T11:07:49.284667Z"
    }
   },
   "outputs": [],
   "source": [
    "class DiffusionCMN(GRFH):\n",
    "\n",
    "    def predict(self):\n",
    "        y = one_hot(self.labels)\n",
    "        L = self.labels.shape[0]\n",
    "        fu = np.dot(np.dot(np.linalg.pinv(\n",
    "            (self.D - self.W)[L:, L:]), self.W[L:, :L]), y)\n",
    "        desirable_proportions = y.sum(0) + 1\n",
    "        fu = fu * (desirable_proportions / fu.sum(0))\n",
    "        return np.unique(self.labels)[np.argmax(fu, axis=1)]"
   ]
  },
  {
   "cell_type": "code",
   "execution_count": 26,
   "metadata": {
    "ExecuteTime": {
     "end_time": "2019-02-27T11:08:16.703602Z",
     "start_time": "2019-02-27T11:07:50.150297Z"
    }
   },
   "outputs": [
    {
     "name": "stdout",
     "output_type": "stream",
     "text": [
      "The score of Diffusion by class prior is 0.522948\n"
     ]
    }
   ],
   "source": [
    "M = DiffusionCMN(xs/255,y_l, 5)\n",
    "print(\"The score of Diffusion by class prior is %f\" % M.score(y_u))"
   ]
  },
  {
   "cell_type": "markdown",
   "metadata": {},
   "source": [
    "## 3. Incorporating External Classifiers - SVM\n",
    "\n",
    "## 3.1 TRESH + SVM"
   ]
  },
  {
   "cell_type": "code",
   "execution_count": 27,
   "metadata": {
    "ExecuteTime": {
     "end_time": "2019-02-27T11:15:55.124442Z",
     "start_time": "2019-02-27T11:15:55.113504Z"
    }
   },
   "outputs": [],
   "source": [
    "class DiffusionTRESHSVM(GRFH):\n",
    "\n",
    "    def predict(self):\n",
    "        y = one_hot(self.labels)\n",
    "        L = self.labels.shape[0]\n",
    "        fu = np.dot(np.dot(np.linalg.pinv(\n",
    "            (self.D - self.W)[L:, L:]), self.W[L:, :L]), y)\n",
    "        clf = SVC(C=2, gamma=3e-3, probability=True)\n",
    "        clf.fit(self._X[:L], self.labels)\n",
    "        hu = clf.predict_proba(self._X[L:])\n",
    "        fu = fu * hu\n",
    "        return np.unique(self.labels)[np.argmax(fu, axis=1)]"
   ]
  },
  {
   "cell_type": "code",
   "execution_count": 29,
   "metadata": {
    "ExecuteTime": {
     "end_time": "2019-02-27T11:16:30.599565Z",
     "start_time": "2019-02-27T11:16:05.152551Z"
    },
    "scrolled": false
   },
   "outputs": [
    {
     "name": "stdout",
     "output_type": "stream",
     "text": [
      "The score of Diffusion by class prior is 0.950419\n"
     ]
    }
   ],
   "source": [
    "M = DiffusionTRESHSVM(xs/255,y_l, 5)\n",
    "print(\"The score of Diffusion by class prior is %f\" % M.score(y_u))"
   ]
  },
  {
   "cell_type": "markdown",
   "metadata": {},
   "source": [
    "# TESTS"
   ]
  },
  {
   "cell_type": "code",
   "execution_count": null,
   "metadata": {
    "ExecuteTime": {
     "start_time": "2019-02-27T11:24:40.776Z"
    }
   },
   "outputs": [],
   "source": [
    "x_train = x_train.reshape((-1, 28*28))\n",
    "n, m = x_train.shape\n",
    "\n",
    "# shuffle data\n",
    "idx = np.random.permutation(n)\n",
    "xtrain = x_train[idx]\n",
    "ytrain = y_train[idx]\n",
    "\n",
    "\n",
    "nb_tests = 10\n",
    "# Pourcentage de la base d'apprentissage non étiquettée\n",
    "list_percent_u = [((98-50)/100.0)*(float(i)/nb_tests) +\n",
    "                  50/100.0 for i in range(nb_tests)]\n",
    "\n",
    "score_KNN, score_thresh, score_CMN, score_threshsvm = [], [], [], []\n",
    "\n",
    "for percent_u in list_percent_u:\n",
    "    U = int(percent_u * n)\n",
    "    L = n-U\n",
    "    labels = ytrain[:L]\n",
    "    labpredire = ytrain[L:]\n",
    "    M = KNN(10)\n",
    "    M.fit(xtrain[:L], xtrain[L:], labels)\n",
    "    score_KNN.append(M.score(labpredire))\n",
    "    M = GRFH(xtrain/255, labels, 5)\n",
    "    score_thresh.append(M.score(labpredire))\n",
    "    M = DiffusionCMN(xtrain/255, labels, 5)\n",
    "    score_CMN.append(M.score(labpredire))\n",
    "    M = DiffusionTRESHSVM(xtrain/255, labels, 5)\n",
    "    score_threshsvm.append(M.score(labpredire))\n",
    "plt.figure(figsize=(20, 8))\n",
    "plt.plot(list_percent_u, score_KNN, label=\"KNN\")\n",
    "plt.plot(list_percent_u, score_thresh, label=\"TRESH\")\n",
    "plt.plot(list_percent_u, score_CMN, label=\"CMN\")\n",
    "plt.plot(list_percent_u, score_threshsvm, label=\"THRESH + SVM\")\n",
    "plt.title(\"Resultat des predictions pour diverses methodes en fonction du pourcentage de donnees non etiquettees\")\n",
    "plt.ylabel(\"Score obtenu\")\n",
    "plt.xlabel(\"Pourcentage de donnees non etiquettees\")\n",
    "plt.legend(bbox_to_anchor=(1.05, 1), loc=2, borderaxespad=0.)\n",
    "plt.grid()\n",
    "plt.show()"
   ]
  },
  {
   "cell_type": "markdown",
   "metadata": {
    "collapsed": true
   },
   "source": [
    "# 4. Learning W"
   ]
  },
  {
   "cell_type": "markdown",
   "metadata": {},
   "source": [
    "### Binary classification"
   ]
  },
  {
   "cell_type": "code",
   "execution_count": null,
   "metadata": {
    "ExecuteTime": {
     "end_time": "2019-02-23T04:15:51.317745Z",
     "start_time": "2019-02-23T04:15:51.300282Z"
    }
   },
   "outputs": [],
   "source": [
    "class DiffusionLEARN:\n",
    "    \n",
    "    def __init__(self, eps=0.01, lr = 0.1):        \n",
    "        self.eps = eps\n",
    "        self.lr = lr\n",
    "\n",
    "    def oracle(self, sgm, max_iter):\n",
    "        \n",
    "        self.h_histo = [1000]\n",
    "        self.dh_histo = None\n",
    "        \n",
    "        for i in range(max_iter):\n",
    "            # calculate W\n",
    "            data_sgm = self.data / sgm\n",
    "            self.W = np.exp(-euclidean_distances(data_sgm) ** 2)\n",
    "            # calculate D\n",
    "            diago = np.sum(self.W,axis=1)\n",
    "            self.D = np.diag(diago)\n",
    "            # calculate P\n",
    "            P = np.dot(np.linalg.inv(self.D), self.W)\n",
    "            Ps = (1 - self.eps) * P + self.eps / (self.L + self.U)\n",
    "            # calculate fu\n",
    "            fu = np.dot(np.dot(np.linalg.inv(np.eye(self.U) - Ps[self.L:, self.L:]), Ps[self.L:, :self.L]), self.fl)\n",
    "            # calculate H\n",
    "            self.h_histo.append(self.H(fu))\n",
    "            # if this is the right direction\n",
    "            if self.h_histo[-1] <= self.h_histo[-2]:\n",
    "                # calculate the gradient of H\n",
    "                dh = self.gradH(fu, P, sgm)\n",
    "                self.dh_histo = np.hstack((self.dh_histo, dh)) if self.dh_histo != None else dh\n",
    "                if np.all(np.abs(dh) < 1e-3) or self.lr < 1e-8:\n",
    "                    break\n",
    "                else:\n",
    "                    sgm = sgm - self.lr * dh.reshape((1, -1))\n",
    "            else:\n",
    "                self.lr = self.lr / 5\n",
    "                \n",
    "        self.sigmas = sgm\n",
    "        self.fu = fu\n",
    "\n",
    "    def H(self, fu):\n",
    "        return - (fu * np.log(fu)).sum() / self.U\n",
    "\n",
    "    def gradH(self, fu, P, sgm):\n",
    "        \n",
    "        Ps = (1 - self.eps) * P + self.eps / (self.L + self.U)\n",
    "        grad_h_sgm = []\n",
    "        dfu_sgm_1 = np.linalg.inv(np.eye(self.U) - Ps[self.L:, self.L:])\n",
    "\n",
    "        for i in range(256):\n",
    "            Xi = np.tile(self.data[:, i], (self.U + self.L, 1))\n",
    "            dw_sgm = 2 * self.W * ((Xi.T - Xi) ** 2) / (sgm[0, i] ** 3)\n",
    "            # formule 14\n",
    "            sum_dw = dw_sgm.sum(1).reshape((-1, 1))\n",
    "            sum_w = self.W.sum(1).reshape((-1, 1))\n",
    "            dps_sgm = (1 - self.eps) * (dw_sgm - P * sum_dw) / sum_w\n",
    "            # formule 13\n",
    "            dfu_sgm_2 = dps_sgm[self.L:, self.L:].dot(fu) + dps_sgm[self.L:, :self.L].dot(self.fl)\n",
    "            dfu_sgm = np.dot(dfu_sgm_1, dfu_sgm_2)\n",
    "            # formule 12\n",
    "            dh_sgm = (fu[:,0] / fu[:, 1] * dfu_sgm[:, 1]).sum() / self.U\n",
    "            # save result\n",
    "            grad_h_sgm.append(dh_sgm)\n",
    "            \n",
    "        return np.array(grad_h_sgm).reshape((-1, 1))\n",
    "\n",
    "    def fit(self, data, labels):\n",
    "        self.labels = labels\n",
    "        self.data = data\n",
    "        self.L = labels.shape[0]\n",
    "        self.U = data.shape[0] - self.L\n",
    "        self.D = data.shape[1]\n",
    "        \n",
    "    def predict(self):\n",
    "        \n",
    "        # record label\n",
    "        set_labels = np.unique(self.labels)\n",
    "        # calculate fl\n",
    "        self.fl = (np.tile(self.labels.reshape((-1, 1)), (1, set_labels.shape[0])) == set_labels).astype(int)\n",
    "        sgm = np.array([2.5 for i in range(m)]).reshape((1, -1))\n",
    "        # optimisation\n",
    "        self.oracle(sgm, 5)\n",
    "        # predict\n",
    "        prediction = set_labels[np.argmax(self.fu, axis = 1)]\n",
    "        return prediction          \n",
    "    \n",
    "    def score(self, labels):\n",
    "        return (self.predict()==labels).mean()"
   ]
  },
  {
   "cell_type": "code",
   "execution_count": null,
   "metadata": {
    "ExecuteTime": {
     "end_time": "2019-02-23T04:15:52.198786Z",
     "start_time": "2019-02-23T04:15:52.149744Z"
    },
    "scrolled": true
   },
   "outputs": [],
   "source": [
    "M = DiffusionLEARN()\n",
    "M.fit(data,labels)\n",
    "print(\"The score of Diffusion by learning w is %f\" % M.score(labpredire))"
   ]
  },
  {
   "cell_type": "markdown",
   "metadata": {},
   "source": [
    "### Multi-class"
   ]
  },
  {
   "cell_type": "code",
   "execution_count": null,
   "metadata": {
    "ExecuteTime": {
     "end_time": "2019-02-23T04:16:10.866417Z",
     "start_time": "2019-02-23T04:16:10.848470Z"
    }
   },
   "outputs": [],
   "source": [
    "class DiffusionLEARN2:\n",
    "    \n",
    "    def __init__(self, eps=0.01, lr = 0.1):        \n",
    "        self.eps = eps\n",
    "        self.lr = lr\n",
    "\n",
    "    def oracle(self, sgm, max_iter):\n",
    "        \n",
    "        self.h_histo = [1000]\n",
    "        self.dh_histo = None\n",
    "        \n",
    "        for i in range(max_iter):\n",
    "            # calculate W\n",
    "            data_sgm = self.data / sgm\n",
    "            self.W = np.exp(-euclidean_distances(data_sgm) ** 2)\n",
    "            # calculate D\n",
    "            diago = np.sum(self.W,axis=1)\n",
    "            self.D = np.diag(diago)\n",
    "            # calculate P\n",
    "            P = np.dot(np.linalg.inv(self.D), self.W)\n",
    "            Ps = (1 - self.eps) * P + self.eps / (self.L + self.U)\n",
    "            # calculate fu\n",
    "            fu = np.dot(np.dot(np.linalg.inv(np.eye(self.U) - Ps[self.L:, self.L:]), Ps[self.L:, :self.L]), self.fl)\n",
    "\n",
    "            # calculate H\n",
    "            self.h_histo.append(self.H(fu))\n",
    "            # if this is the right direction\n",
    "            if self.h_histo[-1] <= self.h_histo[-2]:\n",
    "                # calculate the gradient of H\n",
    "                dh = self.gradH(fu, P, sgm)\n",
    "                self.dh_histo = np.hstack((self.dh_histo, dh)) if self.dh_histo != None else dh\n",
    "                if np.all(np.abs(dh) < 1e-3) or self.lr < 1e-8:\n",
    "                    break\n",
    "                else:\n",
    "                    sgm = sgm - self.lr * dh.reshape((1, -1))\n",
    "            else:\n",
    "                self.lr = self.lr / 5\n",
    "                \n",
    "        self.sigmas = sgm\n",
    "        self.fu = fu\n",
    "\n",
    "    def H(self, fu):\n",
    "        return - (fu * np.log(fu)).sum() / self.U\n",
    "\n",
    "    def gradH(self, fu, P, sgm):\n",
    "        \n",
    "        Ps = (1 - self.eps) * P + self.eps / (self.L + self.U)\n",
    "        grad_h_sgm = []\n",
    "        dfu_sgm_1 = np.linalg.inv(np.eye(self.U) - Ps[self.L:, self.L:])\n",
    "\n",
    "        for i in range(256):\n",
    "            Xi = np.tile(self.data[:, i], (self.U + self.L, 1))\n",
    "            dw_sgm = 2 * self.W * ((Xi.T - Xi) ** 2) / (sgm[0, i] ** 3)\n",
    "            # formule 14\n",
    "            sum_dw = dw_sgm.sum(1).reshape((-1, 1))\n",
    "            sum_w = self.W.sum(1).reshape((-1, 1))\n",
    "            dps_sgm = (1 - self.eps) * (dw_sgm - P * sum_dw) / sum_w\n",
    "            # formule 13\n",
    "            dfu_sgm_2 = dps_sgm[self.L:, self.L:].dot(fu) + dps_sgm[self.L:, :self.L].dot(self.fl)\n",
    "            dfu_sgm = np.dot(dfu_sgm_1, dfu_sgm_2)\n",
    "            # formule 12\n",
    "            dh_sgm = -((np.log(fu) + 1) * dfu_sgm).sum() / self.U\n",
    "            # save result\n",
    "            grad_h_sgm.append(dh_sgm)\n",
    "            \n",
    "        return np.array(grad_h_sgm).reshape((-1, 1))\n",
    "\n",
    "    def fit(self, data, labels):\n",
    "        self.labels = labels\n",
    "        self.data = data\n",
    "        self.L = labels.shape[0]\n",
    "        self.U = data.shape[0] - self.L\n",
    "        self.D = data.shape[1]\n",
    "        \n",
    "    def predict(self):\n",
    "        \n",
    "        # record label\n",
    "        set_labels = np.unique(self.labels)\n",
    "        # calculate fl\n",
    "        self.fl = (np.tile(self.labels.reshape((-1, 1)), (1, set_labels.shape[0])) == set_labels).astype(int)\n",
    "        sgm = np.array([3.5 for i in range(m)]).reshape((1, -1))\n",
    "        # optimisation\n",
    "        self.oracle(sgm, 5)\n",
    "        # predict\n",
    "        prediction = set_labels[np.argmax(self.fu, axis = 1)]\n",
    "        return prediction          \n",
    "    \n",
    "    def score(self, labels):\n",
    "        return (self.predict()==labels).mean()"
   ]
  },
  {
   "cell_type": "code",
   "execution_count": null,
   "metadata": {
    "ExecuteTime": {
     "end_time": "2019-02-23T04:16:11.732171Z",
     "start_time": "2019-02-23T04:16:11.684973Z"
    }
   },
   "outputs": [],
   "source": [
    "M = DiffusionLEARN2()\n",
    "M.fit(data,labels)\n",
    "print(\"The score of Diffusion by learning w is %f\" % M.score(labpredire))"
   ]
  },
  {
   "cell_type": "code",
   "execution_count": null,
   "metadata": {
    "ExecuteTime": {
     "end_time": "2019-02-23T03:32:59.215975Z",
     "start_time": "2019-02-23T03:32:56.352Z"
    }
   },
   "outputs": [],
   "source": [
    "class DiffusionLEARN_ONE_SGM:\n",
    "    \n",
    "    def __init__(self, eps=0.01, lr = 0.1):        \n",
    "        self.eps = eps\n",
    "        self.lr = lr\n",
    "\n",
    "    def oracle(self, sgm, max_iter):\n",
    "        \n",
    "        self.h_histo = [1000]\n",
    "        self.dh_histo = None\n",
    "        self.ls_sgm = []\n",
    "        \n",
    "        for i in range(max_iter):\n",
    "            # calculate W\n",
    "            data_sgm = self.data / sgm\n",
    "            self.W = np.exp(-euclidean_distances(data_sgm) ** 2)\n",
    "            # calculate D\n",
    "            diago = np.sum(self.W,axis=1)\n",
    "            self.D = np.diag(diago)\n",
    "            # calculate P\n",
    "            P = np.dot(np.linalg.inv(self.D), self.W)\n",
    "            \n",
    "            Ps = (1 - self.eps) * P + self.eps / (self.L + self.U)\n",
    "            # calculate fu\n",
    "            fu = np.dot(np.dot(np.linalg.inv(np.eye(self.U) - Ps[self.L:, self.L:]), Ps[self.L:, :self.L]), self.fl)\n",
    "            # calculate H\n",
    "            self.h_histo.append(self.H(fu))\n",
    "            self.ls_sgm.append(sgm)\n",
    "            # if this is the right direction\n",
    "            # calculate the gradient of H\n",
    "            dh = self.gradH(fu, P, sgm)\n",
    "            self.dh_histo = np.hstack((self.dh_histo, dh)) if self.dh_histo != None else dh\n",
    "            sgm = sgm - self.lr * dh.reshape((1, -1))\n",
    "\n",
    "        \n",
    "        self.sigmas = sgm\n",
    "        self.fu = fu\n",
    "        \n",
    "    def H(self, fu):\n",
    "        return - (fu * np.log(fu)).sum() / self.U\n",
    "\n",
    "    def gradH(self, fu, P, sgm):\n",
    "        \n",
    "        Ps = (1 - self.eps) * P + self.eps / (self.L + self.U)\n",
    "        grad_h_sgm = []\n",
    "        \n",
    "        dw_sgm = 2 * self.W * euclidean_distances(self.data) ** 2 / (sgm ** 3)\n",
    "        # formule 14\n",
    "        sum_dw = dw_sgm.sum(1).reshape((-1, 1))\n",
    "        sum_w = self.W.sum(1).reshape((-1, 1))\n",
    "        dps_sgm = (1 - self.eps) * (dw_sgm - P * sum_dw) / sum_w\n",
    "        # formule 13\n",
    "        dfu_sgm_1 = np.linalg.inv(np.eye(self.U) - Ps[self.L:, self.L:])\n",
    "        dfu_sgm_2 = dps_sgm[self.L:, self.L:].dot(fu) + dps_sgm[self.L:, :self.L].dot(self.fl)\n",
    "        dfu_sgm = np.dot(dfu_sgm_1, dfu_sgm_2)\n",
    "        # formule 12\n",
    "        dh_sgm = ((fu[:,0] / fu[:, 1]) * dfu_sgm[:, 1]).sum() / self.U\n",
    "        # save result\n",
    "        grad_h_sgm.append(dh_sgm)\n",
    "            \n",
    "        return np.array(grad_h_sgm).reshape((-1, 1))\n",
    "\n",
    "    def fit(self, data, labels):\n",
    "        self.labels = labels\n",
    "        self.data = data\n",
    "        self.L = labels.shape[0]\n",
    "        self.U = data.shape[0] - self.L\n",
    "        self.d = data.shape[1]\n",
    "        \n",
    "    def predict(self,sgm):\n",
    "        # record label\n",
    "        set_labels = np.unique(self.labels)\n",
    "        # calculate fl\n",
    "        self.fl = (np.tile(self.labels.reshape((-1, 1)), (1, set_labels.shape[0])) == set_labels).astype(int)\n",
    "        # optimisation\n",
    "        self.oracle(sgm, 5000)\n",
    "        # predict\n",
    "        prediction = set_labels[np.argmax(self.fu, axis = 1)]\n",
    "        return prediction\n",
    "    \n",
    "    def entropie_sgm(self,sgm): \n",
    "        # record label\n",
    "        set_labels = np.unique(self.labels)\n",
    "        # calculate fl\n",
    "        self.fl = (np.tile(self.labels.reshape((-1, 1)), (1, set_labels.shape[0])) == set_labels).astype(int)\n",
    "        # Calculate fu\n",
    "        data_sgm = self.data / sgm\n",
    "        self.W = np.exp(-euclidean_distances(data_sgm) ** 2)\n",
    "            # calculate D\n",
    "        diago = np.sum(self.W,axis=1)\n",
    "        self.D = np.diag(diago)\n",
    "            # calculate P\n",
    "        P = np.dot(np.linalg.inv(self.D), self.W)\n",
    "            # calculate fu\n",
    "        Ps = (1 - self.eps) * P + self.eps / (self.L + self.U)\n",
    "            # calculate fu\n",
    "        fu = np.dot(np.dot(np.linalg.inv(np.eye(self.U) - Ps[self.L:, self.L:]), Ps[self.L:, :self.L]), self.fl)\n",
    "        # calculate entropy\n",
    "        return self.H(fu)  \n",
    "    \n",
    "    def score(self, sgm,labels):\n",
    "        return (self.predict(sgm)==labels).mean()"
   ]
  },
  {
   "cell_type": "code",
   "execution_count": null,
   "metadata": {
    "ExecuteTime": {
     "end_time": "2019-02-23T03:32:59.235099Z",
     "start_time": "2019-02-23T03:32:58.440Z"
    }
   },
   "outputs": [],
   "source": [
    "X = []\n",
    "label = []\n",
    "for i in range(-3,4):\n",
    "    for j in range(-2,5):\n",
    "        if j==1 :\n",
    "            if i==0:\n",
    "                X.append([0,0.66])\n",
    "                X.append([0,1.33])\n",
    "        else:\n",
    "            X.append([i,j])\n",
    "        if j>1:\n",
    "            label.append(1)\n",
    "        elif j<1:\n",
    "            label.append(-1)\n",
    "        elif i==0:\n",
    "            label.append(-1)\n",
    "            label.append(1)\n",
    "X = np.array(X)\n",
    "label = np.array(label)\n",
    "for i in range(0,2):\n",
    "    X[12,i],X[0,i] = X[0,i],X[12,i]\n",
    "    X[36,i],X[1,i] = X[1,i],X[36,i]\n",
    "    X[3,i],X[16,i] = X[16,i],X[3,i]\n",
    "    X[2,i],X[27,i] = X[27,i],X[2,i]\n",
    "\n",
    "    \n",
    "label[0],label[12] = label[12],label[0]\n",
    "label[1],label[36] = label[36],label[1]\n",
    "label[3],label[16] = label[16],label[3]\n",
    "label[2],label[27] = label[27],label[2]\n",
    "\n",
    "\n",
    "ind1 = np.where(label ==1)[0]\n",
    "indm1 = np.where(label ==-1)[0]\n",
    "\n",
    "\n",
    "plt.scatter(X[ind1,0],X[ind1,1],marker='+')\n",
    "plt.scatter(X[indm1,0],X[indm1,1],marker='o')\n",
    "plt.scatter(X[0,0],X[0,1],color='r',marker='o')\n",
    "plt.scatter(X[1,0],X[1,1],color='r',marker='+')\n",
    "plt.scatter(X[2,0],X[2,1],color='r',marker='o')\n",
    "plt.scatter(X[3,0],X[3,1],color='r',marker='+')\n",
    "\n",
    "\n",
    "\n",
    "plt.show()\n",
    "labels = label[:3]\n",
    "labpredire = label[3:]"
   ]
  },
  {
   "cell_type": "code",
   "execution_count": null,
   "metadata": {
    "ExecuteTime": {
     "end_time": "2019-02-23T03:33:00.964072Z",
     "start_time": "2019-02-23T03:33:00.903110Z"
    }
   },
   "outputs": [],
   "source": [
    "entropie_eps= [[] for k in range(4)]\n",
    "values_sgm = np.array([(i-0.5)/1000.0  for i in range(175,2000)])\n",
    "for k in range(3):\n",
    "    epsilon = 10**(-k-1)\n",
    "    M = DiffusionLEARN_ONE_SGM(eps = epsilon)\n",
    "    M.fit(X,labels)\n",
    "    for sig in values_sgm:\n",
    "        entropie_eps[k].append(M.entropie_sgm(sig))\n",
    "epsilon = 0\n",
    "M = DiffusionLEARN_ONE_SGM(eps = epsilon)\n",
    "M.fit(X,labels)\n",
    "for sig in values_sgm:\n",
    "    entropie_eps[3].append(M.entropie_sgm(sig))\n",
    "\n",
    "plt.plot(values_sgm,entropie_eps[0],color='r',label='eps = 0.1')\n",
    "plt.plot(values_sgm,entropie_eps[1],color='b',label='eps = 0.01')\n",
    "plt.plot(values_sgm,entropie_eps[2],color='g',label='eps = 0.001')\n",
    "plt.plot(values_sgm,entropie_eps[3],color='y',label='eps = 0')\n",
    "#plt.title(\"Influence de sigma\")\n",
    "plt.ylabel(\"Entropie\")\n",
    "plt.xlabel(\"sigma\")\n",
    "plt.legend(bbox_to_anchor=(1.05, 0.5), loc=0, borderaxespad=0.)\n",
    "plt.show()"
   ]
  },
  {
   "cell_type": "markdown",
   "metadata": {},
   "source": [
    "# Influence du nombre de features"
   ]
  },
  {
   "cell_type": "code",
   "execution_count": null,
   "metadata": {},
   "outputs": [],
   "source": [
    "xmnisttrain, ymnisttrain = select_data([3,5,6,7,4], xmnist, ymnist)\n",
    "data = xmnisttrain\n",
    "(n,m) = np.shape(data)\n",
    "\n",
    "# shuffle data\n",
    "idx = np.random.permutation(n)\n",
    "data = data[idx]\n",
    "ymnisttrain = ymnisttrain[idx]\n",
    "\n",
    "n = 3000\n",
    "data = data[:n]\n",
    "ymnisttrain = ymnisttrain[:n]\n",
    "score_KNN,score_thresh,score_CMN,score_threshsvm = [],[],[], []\n",
    "list_nb_features = [k*100 for k in range(1,7)]\n",
    "k=0\n",
    "for f in list_nb_features:\n",
    "    score_KNN.append(0)\n",
    "    score_thresh.append(0)\n",
    "    score_CMN.append(0)\n",
    "    score_threshsvm.append(0)\n",
    "    for i in range(5):\n",
    "        # shuffle data\n",
    "        idx = np.random.permutation(n)\n",
    "        data = data[idx]\n",
    "        ymnisttrain = ymnisttrain[idx]\n",
    "        xtrain = data[:1000,:f]\n",
    "        ytrain = ymnisttrain[:1000]\n",
    "        (n,m) = np.shape(xtrain)\n",
    "        #nombre de données non étiquettées\n",
    "        U = int(percent_u * n)\n",
    "        # nombre de données étiquettées\n",
    "        L =  n-U\n",
    "        # étiquettes connues\n",
    "        labels = ytrain[:L]\n",
    "        # étiquettes à prédire\n",
    "        labpredire = ytrain[L:]\n",
    "        M = KNN(10)\n",
    "        M.fit(xtrain,labels)\n",
    "        score_KNN[k] += (M.score(labpredire))\n",
    "        M = DiffusionTRESH()\n",
    "        M.fit(xtrain,labels)\n",
    "        score_thresh[k] += (M.score(labpredire))\n",
    "        M = DiffusionCMN()\n",
    "        M.fit(xtrain,labels)\n",
    "        score_CMN[k] += (M.score(labpredire))\n",
    "        M = DiffusionTRESHSVM()\n",
    "        M.fit(xtrain,labels)\n",
    "        score_threshsvm[k] += (M.score(labpredire))\n",
    "    score_KNN[k] = score_KNN[k]/5\n",
    "    score_thresh[k] = score_thresh[k]/5\n",
    "    score_CMN[k] = score_CMN[k] /5\n",
    "    score_threshsvm[k] = score_threshsvm[k]/5\n",
    "    k+=1\n",
    "plt.figure()\n",
    "plt.plot(list_nb_features,score_KNN,label = \"KNN\")\n",
    "plt.plot(list_nb_features,score_thresh,label = \"TRESH\")\n",
    "plt.plot(list_nb_features,score_CMN,label = \"CMN\")\n",
    "plt.plot(list_nb_features,score_threshsvm,label = \"THRESH + SVM\")\n",
    "#plt.title(\"Resultat des predictions pour diverses methodes en fonction du pourcentage de donnees non etiquettees\")\n",
    "plt.ylabel(\"Score obtenu\")\n",
    "plt.xlabel(\"Nombre de features\")\n",
    "plt.legend(bbox_to_anchor=(0.5, 0.4), loc=0, borderaxespad=0.)\n",
    "plt.grid()\n",
    "#plt.xlim(0.5, 0.95)\n",
    "plt.show()"
   ]
  },
  {
   "cell_type": "markdown",
   "metadata": {},
   "source": [
    "# Influence du nombre de classes"
   ]
  },
  {
   "cell_type": "code",
   "execution_count": null,
   "metadata": {},
   "outputs": [],
   "source": [
    "xmnisttrain, ymnisttrain = select_data([0,1,2,3,4,5,6,7,8,9], xmnist, ymnist)\n",
    "data = xmnisttrain\n",
    "(n,m) = np.shape(data)\n",
    "\n",
    "# shuffle data\n",
    "idx = np.random.permutation(n)\n",
    "data = data[idx]\n",
    "ymnisttrain = ymnisttrain[idx]\n",
    "\n",
    "n = 3000\n",
    "data = data[:n]\n",
    "ymnisttrain = ymnisttrain[:n]\n",
    "score_KNN,score_thresh,score_CMN,score_threshsvm = [],[],[], []\n",
    "list_nb_classes = [k for k in range(2,9)]\n",
    "k=0\n",
    "for j in list_nb_classes:\n",
    "    score_KNN.append(0)\n",
    "    score_thresh.append(0)\n",
    "    score_CMN.append(0)\n",
    "    score_threshsvm.append(0)\n",
    "    for i in range(5):\n",
    "        # shuffle data\n",
    "        xmnisttrain, ymnisttrain = select_data([i for i in range(j)], xmnist, ymnist)\n",
    "        data = xmnisttrain\n",
    "        idx = np.random.permutation(n)\n",
    "        data = data[idx]\n",
    "        ymnisttrain = ymnisttrain[idx]\n",
    "        xtrain = data[:1000,:]\n",
    "        ytrain = ymnisttrain[:1000]\n",
    "        (n,m) = np.shape(xtrain)\n",
    "        #nombre de données non étiquettées\n",
    "        U = int(0.98 * n)\n",
    "        # nombre de données étiquettées\n",
    "        L =  n-U\n",
    "        # étiquettes connues\n",
    "        labels = ytrain[:L]\n",
    "        # étiquettes à prédire\n",
    "        labpredire = ytrain[L:]\n",
    "        M = KNN(10)\n",
    "        M.fit(xtrain,labels)\n",
    "        score_KNN[k] += (M.score(labpredire))\n",
    "        M = DiffusionTRESH()\n",
    "        M.fit(xtrain,labels)\n",
    "        score_thresh[k] += (M.score(labpredire))\n",
    "        M = DiffusionCMN()\n",
    "        M.fit(xtrain,labels)\n",
    "        score_CMN[k] += (M.score(labpredire))\n",
    "        M = DiffusionTRESHSVM()\n",
    "        M.fit(xtrain,labels)\n",
    "        score_threshsvm[k] += (M.score(labpredire))\n",
    "    score_KNN[k] = score_KNN[k]/5\n",
    "    score_thresh[k] = score_thresh[k]/5\n",
    "    score_CMN[k] = score_CMN[k] /5\n",
    "    score_threshsvm[k] = score_threshsvm[k]/5\n",
    "    k+=1\n",
    "\n",
    "chaine_KNN = 'KNN'\n",
    "chaine_THRESH = 'THRESH'\n",
    "chaine_THRESHSVM = 'THRESH + SVM'\n",
    "chaine_CMN = 'CMN'\n",
    "for j in range(k):\n",
    "    chaine_KNN = chaine_KNN + ' & ' + str(round(score_KNN[j],3))\n",
    "    chaine_CMN +=' & ' + str(round(score_CMN[j],3))\n",
    "    chaine_THRESH +=' & ' + str(round(score_thresh[j],3))\n",
    "    chaine_THRESHSVM +=' & ' + str(round(score_threshsvm[j],3))\n",
    "print(chaine_KNN)\n",
    "print(chaine_CMN)\n",
    "print(chaine_THRESH)\n",
    "print(chaine_THRESHSVM)"
   ]
  },
  {
   "cell_type": "markdown",
   "metadata": {},
   "source": [
    "# METHODE PAR DESCENTE DE GRADIENT SUR L'OBJECTIF QUADRATIQUE"
   ]
  },
  {
   "cell_type": "code",
   "execution_count": null,
   "metadata": {},
   "outputs": [],
   "source": [
    "class DiffusionENERGY:\n",
    "    \n",
    "    def __init__(self, lr = 0.1):        \n",
    "        self.lr = lr\n",
    "        \n",
    "    def oracle(self, sgm, max_iter):\n",
    "        self.h_histo = [1000]\n",
    "        self.dh_histo = None\n",
    "        \n",
    "        for i in range(max_iter):\n",
    "            # calculate W\n",
    "            data_sgm = self.data / sgm\n",
    "            self.W = np.exp(-euclidean_distances(data_sgm) ** 2)\n",
    "            # calculate D\n",
    "            diago = np.sum(self.W,axis=1)\n",
    "            self.D = np.diag(diago)\n",
    "            # calculate P\n",
    "            P = np.dot(np.linalg.inv(self.D), self.W)\n",
    "            # calculate fu\n",
    "            fu = np.dot(np.dot(np.linalg.inv(np.eye(self.U) - P[self.L:, self.L:]), P[self.L:, :self.L]), self.fl)\n",
    "            # calculate H\n",
    "            self.h_histo.append(self.H(fu))\n",
    "            # if this is the right direction\n",
    "            if self.h_histo[-1] <= self.h_histo[-2]:\n",
    "                # calculate the gradient of H\n",
    "                dh = self.gradH(fu, P, sgm)\n",
    "                self.dh_histo = np.hstack((self.dh_histo, dh)) if self.dh_histo != None else dh\n",
    "                if np.all(np.abs(dh) < 1e-3) or self.lr < 1e-8:\n",
    "                    break\n",
    "                else:\n",
    "                    sgm = sgm - self.lr * dh.reshape((1, -1))\n",
    "            else:\n",
    "                self.lr = self.lr / 5   \n",
    "        self.sigmas = sgm\n",
    "        self.fu = fu\n",
    "\n",
    "    def H(self, fu):\n",
    "        res = 0\n",
    "        for j in range(self.U):\n",
    "            for i in range(self.L):\n",
    "                res += self.W[i,j] * np.sum((fu[j,:]-self.fl[i,:])**2)\n",
    "            for i in range(self.U):\n",
    "                res += 0.5 *  self.W[i,j] * np.sum((fu[j,:]-fu[i,:])**2)\n",
    "        return res\n",
    "\n",
    "    def gradH(self, fu, P, sgm):\n",
    "        grad_sgm = []\n",
    "        dfu_sgm_1 = np.linalg.inv(np.eye(self.U) - P[self.L:, self.L:])\n",
    "       \n",
    "        for i in range(np.shape(self.data)[1]):\n",
    "            energie =0\n",
    "            Xi = np.tile(self.data[:, i], (self.U + self.L, 1))\n",
    "            dw_sgm = 2 * self.W * ((Xi.T - Xi) ** 2) / (sgm[0, i] ** 3)\n",
    "            # formule 14\n",
    "            sum_dw = dw_sgm.sum(1).reshape((-1, 1))\n",
    "            sum_w = self.W.sum(1).reshape((-1, 1))\n",
    "            dps_sgm = (dw_sgm - P * sum_dw) / sum_w\n",
    "            # formule 13\n",
    "            dfu_sgm_2 = dps_sgm[self.L:, self.L:].dot(fu) + dps_sgm[self.L:, :self.L].dot(self.fl)\n",
    "            dfu_sgm = np.dot(dfu_sgm_1, dfu_sgm_2)\n",
    "            for j in range(self.U):\n",
    "                diff = (np.tile(fu[j,:],(self.L,1))-self.fl)\n",
    "                energie += 2*np.dot(self.W[:self.L,self.L+j].reshape(1,-1),np.dot(dfu_sgm[j,:],diff.T).reshape(-1,1))\n",
    "                energie += 2*np.dot(dw_sgm[:self.L,self.L+j].reshape(1,-1),np.sum(diff**2,axis=1).reshape(-1,1))\n",
    "                \n",
    "                diff1 =  (np.tile(fu[j,:],(self.U,1))-fu)\n",
    "                diff2 = (np.tile(dfu_sgm[j,:],(self.U,1))-dfu_sgm)\n",
    "                energie += np.dot(dw_sgm[self.L:,self.L+j].T, np.sum((diff1)**2,axis=1).reshape(-1,1))\n",
    "                energie += np.dot(self.W[self.L:,self.L+j].T, np.diag(np.dot(diff2,diff1.T)))\n",
    "            # save result\n",
    "            grad_sgm.append(energie)\n",
    "        return np.array(grad_sgm).reshape((-1, 1))\n",
    "\n",
    "    def fit(self, data, labels):\n",
    "        self.labels = labels\n",
    "        self.data = data\n",
    "        self.L = labels.shape[0]\n",
    "        self.U = data.shape[0] - self.L\n",
    "        self.D = data.shape[1]\n",
    "        \n",
    "    def predict(self):\n",
    "        # record label\n",
    "        set_labels = np.unique(self.labels)\n",
    "        # calculate fl\n",
    "        self.fl = (np.tile(self.labels.reshape((-1, 1)), (1, set_labels.shape[0])) == set_labels).astype(int)\n",
    "        sgm = np.array([3.5 for i in range(np.shape(self.data)[1])]).reshape((1, -1))\n",
    "        # optimisation\n",
    "        self.oracle(sgm, 15)\n",
    "        # predict\n",
    "        prediction = set_labels[np.argmax(self.fu, axis = 1)]\n",
    "        return prediction          \n",
    "    \n",
    "    def score(self, labels):\n",
    "        return (self.predict()==labels).mean()"
   ]
  },
  {
   "cell_type": "markdown",
   "metadata": {},
   "source": [
    "## Resultats sur la base de données 2D jouet sans apprendre $\\sigma$"
   ]
  },
  {
   "cell_type": "code",
   "execution_count": null,
   "metadata": {},
   "outputs": [],
   "source": [
    "M = DiffusionTRESH()\n",
    "M.fit(X,labels)\n",
    "print(\"The score of Diffusion by learning w is %f\" % M.score(labpredire))\n",
    "prediction = M.predict()\n",
    "prediction = np.concatenate((np.array([-1,1,-1]),prediction))\n",
    "ind1pred = np.where(prediction ==1)[0]\n",
    "indm1pred = np.where(prediction ==-1)[0]\n",
    "\n",
    "\n",
    "plt.scatter(X[ind1pred,0],X[ind1pred,1],marker='+')\n",
    "plt.scatter(X[indm1pred,0],X[indm1pred,1],marker='o')\n",
    "plt.scatter(X[0,0],X[0,1],color='r',marker='o')\n",
    "plt.scatter(X[1,0],X[1,1],color='r',marker='+')\n",
    "plt.scatter(X[2,0],X[2,1],color='r',marker='o')\n",
    "plt.title('Prédiction obtenue sans apprendre sigma')\n",
    "plt.show()"
   ]
  },
  {
   "cell_type": "markdown",
   "metadata": {},
   "source": [
    "## Resultats sur la base de données 2D jouet en effectuant une descente de gradient sur le critère quadratique"
   ]
  },
  {
   "cell_type": "code",
   "execution_count": null,
   "metadata": {},
   "outputs": [],
   "source": [
    "M = DiffusionENERGY()\n",
    "M.fit(X,labels)\n",
    "print(\"The score of Diffusion by learning w is %f\" % M.score(labpredire))\n",
    "M = DiffusionENERGY()\n",
    "M.fit(X,labels)\n",
    "prediction = M.predict()\n",
    "prediction = np.concatenate((np.array([-1,1,-1]),prediction))\n",
    "print(M.sigmas)\n",
    "ind1pred = np.where(prediction ==1)[0]\n",
    "indm1pred = np.where(prediction ==-1)[0]\n",
    "\n",
    "plt.scatter(X[ind1pred,0],X[ind1pred,1],marker='+')\n",
    "plt.scatter(X[indm1pred,0],X[indm1pred,1],marker='o')\n",
    "plt.scatter(X[0,0],X[0,1],color='r',marker='o')\n",
    "plt.scatter(X[1,0],X[1,1],color='r',marker='+')\n",
    "plt.scatter(X[2,0],X[2,1],color='r',marker='o')\n",
    "plt.title('Prédiction obtenue en apprenant sigma')\n",
    "plt.show()"
   ]
  },
  {
   "cell_type": "code",
   "execution_count": null,
   "metadata": {},
   "outputs": [],
   "source": []
  }
 ],
 "metadata": {
  "kernelspec": {
   "display_name": "Python [default]",
   "language": "python",
   "name": "python3"
  },
  "language_info": {
   "codemirror_mode": {
    "name": "ipython",
    "version": 3
   },
   "file_extension": ".py",
   "mimetype": "text/x-python",
   "name": "python",
   "nbconvert_exporter": "python",
   "pygments_lexer": "ipython3",
   "version": "3.6.5"
  },
  "latex_envs": {
   "LaTeX_envs_menu_present": true,
   "autoclose": false,
   "autocomplete": true,
   "bibliofile": "biblio.bib",
   "cite_by": "apalike",
   "current_citInitial": 1,
   "eqLabelWithNumbers": true,
   "eqNumInitial": 1,
   "hotkeys": {
    "equation": "Ctrl-E",
    "itemize": "Ctrl-I"
   },
   "labels_anchors": false,
   "latex_user_defs": false,
   "report_style_numbering": false,
   "user_envs_cfg": false
  },
  "nbTranslate": {
   "displayLangs": [
    "*"
   ],
   "hotkey": "alt-t",
   "langInMainMenu": true,
   "sourceLang": "en",
   "targetLang": "fr",
   "useGoogleTranslate": true
  },
  "toc": {
   "base_numbering": 1,
   "nav_menu": {},
   "number_sections": true,
   "sideBar": true,
   "skip_h1_title": false,
   "title_cell": "Table of Contents",
   "title_sidebar": "Contents",
   "toc_cell": false,
   "toc_position": {},
   "toc_section_display": true,
   "toc_window_display": false
  },
  "varInspector": {
   "cols": {
    "lenName": 16,
    "lenType": 16,
    "lenVar": 40
   },
   "kernels_config": {
    "python": {
     "delete_cmd_postfix": "",
     "delete_cmd_prefix": "del ",
     "library": "var_list.py",
     "varRefreshCmd": "print(var_dic_list())"
    },
    "r": {
     "delete_cmd_postfix": ") ",
     "delete_cmd_prefix": "rm(",
     "library": "var_list.r",
     "varRefreshCmd": "cat(var_dic_list()) "
    }
   },
   "types_to_exclude": [
    "module",
    "function",
    "builtin_function_or_method",
    "instance",
    "_Feature"
   ],
   "window_display": false
  }
 },
 "nbformat": 4,
 "nbformat_minor": 1
}
