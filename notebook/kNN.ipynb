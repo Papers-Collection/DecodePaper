{
 "cells": [
  {
   "cell_type": "code",
   "execution_count": 40,
   "metadata": {
    "ExecuteTime": {
     "end_time": "2019-03-01T10:08:38.099706Z",
     "start_time": "2019-03-01T10:08:38.091562Z"
    }
   },
   "outputs": [],
   "source": [
    "from sklearn.metrics import pairwise_distances\n",
    "from scipy import stats\n",
    "\n",
    "\n",
    "class KNN:\n",
    "    def __init__(self, k):\n",
    "        self.k = k\n",
    "\n",
    "    def fit(self, x_l, x_u, y_l):\n",
    "        self.W = pairwise_distances(x_l, x_u, metric='cosine')\n",
    "        self.labels = y_l\n",
    "\n",
    "    def score(self, Yu):\n",
    "        return (self.predict() == Yu).mean()\n",
    "\n",
    "    def predict(self):\n",
    "        idx = np.argsort(self.W, axis=0)[:self.k]\n",
    "        bag = self.labels[idx]\n",
    "        predict, _ = stats.mode(bag, axis=0)\n",
    "        return predict.reshape((-1))"
   ]
  },
  {
   "cell_type": "code",
   "execution_count": 41,
   "metadata": {
    "ExecuteTime": {
     "end_time": "2019-03-01T10:08:39.988336Z",
     "start_time": "2019-03-01T10:08:39.789177Z"
    }
   },
   "outputs": [
    {
     "data": {
      "image/png": "[encoded data removed]",
      "text/plain": [
       "<Figure size 432x288 with 1 Axes>"
      ]
     },
     "metadata": {},
     "output_type": "display_data"
    }
   ],
   "source": [
    "%matplotlib inline\n",
    "import numpy as np\n",
    "import matplotlib.pyplot as plt\n",
    "from sklearn.datasets import make_moons\n",
    "\n",
    "n = 800   # 样本数\n",
    "n_labeled = 150 # 有标签样本数\n",
    "X, Y = make_moons(n, shuffle=True, noise=0.2, random_state=1000)\n",
    "\n",
    "x_l, x_u = X[:n_labeled], X[n_labeled:]\n",
    "y_l, y_u = Y[:n_labeled], Y[n_labeled:]\n",
    "\n",
    "color = ['red' if l == 0 else 'blue' for l in y_l]\n",
    "plt.scatter(x_l[:, 0], x_l[:, 1], color=color)\n",
    "plt.scatter(x_u[:, 0][:7], x_u[:, 1][:7], marker = 's', color='cyan')\n",
    "plt.show()"
   ]
  },
  {
   "cell_type": "code",
   "execution_count": 42,
   "metadata": {
    "ExecuteTime": {
     "end_time": "2019-03-01T10:08:43.039348Z",
     "start_time": "2019-03-01T10:08:43.019438Z"
    }
   },
   "outputs": [
    {
     "name": "stdout",
     "output_type": "stream",
     "text": [
      "The score of Diffusion by knn is 0.781538\n"
     ]
    }
   ],
   "source": [
    "M = KNN(1)\n",
    "M.fit(x_l, x_u, y_l)\n",
    "print(\"The score of Diffusion by knn is %f\" % M.score(y_u))"
   ]
  },
  {
   "cell_type": "code",
   "execution_count": 44,
   "metadata": {
    "ExecuteTime": {
     "end_time": "2019-03-02T05:27:10.027859Z",
     "start_time": "2019-03-02T05:27:10.015827Z"
    }
   },
   "outputs": [
    {
     "name": "stdout",
     "output_type": "stream",
     "text": [
      "The score of Diffusion by knn is 0.847692\n"
     ]
    }
   ],
   "source": [
    "M = KNN(10)\n",
    "M.fit(x_l, x_u, y_l)\n",
    "print(\"The score of Diffusion by knn is %f\" % M.score(y_u))"
   ]
  },
  {
   "cell_type": "code",
   "execution_count": 45,
   "metadata": {
    "ExecuteTime": {
     "end_time": "2019-03-02T14:37:19.364898Z",
     "start_time": "2019-03-02T14:37:19.340831Z"
    }
   },
   "outputs": [],
   "source": [
    "a = 'Classification of semi-supervised images based on deep learning'"
   ]
  },
  {
   "cell_type": "code",
   "execution_count": 46,
   "metadata": {
    "ExecuteTime": {
     "end_time": "2019-03-02T14:37:39.636799Z",
     "start_time": "2019-03-02T14:37:39.616995Z"
    }
   },
   "outputs": [
    {
     "data": {
      "text/plain": [
       "'CLASSIFICATION OF SEMI-SUPERVISED IMAGES BASED ON DEEP LEARNING'"
      ]
     },
     "execution_count": 46,
     "metadata": {},
     "output_type": "execute_result"
    }
   ],
   "source": [
    "a.upper()"
   ]
  },
  {
   "cell_type": "code",
   "execution_count": null,
   "metadata": {},
   "outputs": [],
   "source": []
  }
 ],
 "metadata": {
  "kernelspec": {
   "display_name": "Python [conda root]",
   "language": "python",
   "name": "conda-root-py"
  },
  "language_info": {
   "codemirror_mode": {
    "name": "ipython",
    "version": 3
   },
   "file_extension": ".py",
   "mimetype": "text/x-python",
   "name": "python",
   "nbconvert_exporter": "python",
   "pygments_lexer": "ipython3",
   "version": "3.6.5"
  },
  "latex_envs": {
   "LaTeX_envs_menu_present": true,
   "autoclose": false,
   "autocomplete": true,
   "bibliofile": "biblio.bib",
   "cite_by": "apalike",
   "current_citInitial": 1,
   "eqLabelWithNumbers": true,
   "eqNumInitial": 1,
   "hotkeys": {
    "equation": "Ctrl-E",
    "itemize": "Ctrl-I"
   },
   "labels_anchors": false,
   "latex_user_defs": false,
   "report_style_numbering": false,
   "user_envs_cfg": false
  },
  "nbTranslate": {
   "displayLangs": [
    "*"
   ],
   "hotkey": "alt-t",
   "langInMainMenu": true,
   "sourceLang": "en",
   "targetLang": "fr",
   "useGoogleTranslate": true
  },
  "toc": {
   "base_numbering": 1,
   "nav_menu": {},
   "number_sections": true,
   "sideBar": true,
   "skip_h1_title": false,
   "title_cell": "Table of Contents",
   "title_sidebar": "Contents",
   "toc_cell": false,
   "toc_position": {},
   "toc_section_display": true,
   "toc_window_display": false
  },
  "varInspector": {
   "cols": {
    "lenName": 16,
    "lenType": 16,
    "lenVar": 40
   },
   "kernels_config": {
    "python": {
     "delete_cmd_postfix": "",
     "delete_cmd_prefix": "del ",
     "library": "var_list.py",
     "varRefreshCmd": "print(var_dic_list())"
    },
    "r": {
     "delete_cmd_postfix": ") ",
     "delete_cmd_prefix": "rm(",
     "library": "var_list.r",
     "varRefreshCmd": "cat(var_dic_list()) "
    }
   },
   "types_to_exclude": [
    "module",
    "function",
    "builtin_function_or_method",
    "instance",
    "_Feature"
   ],
   "window_display": false
  }
 },
 "nbformat": 4,
 "nbformat_minor": 2
}
