{
 "cells": [
  {
   "cell_type": "code",
   "execution_count": 1,
   "metadata": {
    "ExecuteTime": {
     "end_time": "2019-02-28T14:11:58.626321Z",
     "start_time": "2019-02-28T14:11:57.907329Z"
    }
   },
   "outputs": [],
   "source": [
    "%matplotlib inline"
   ]
  },
  {
   "cell_type": "code",
   "execution_count": 2,
   "metadata": {
    "ExecuteTime": {
     "end_time": "2019-02-28T14:14:18.486345Z",
     "start_time": "2019-02-28T14:11:58.630317Z"
    },
    "scrolled": true
   },
   "outputs": [
    {
     "name": "stdout",
     "output_type": "stream",
     "text": [
      "The best c: 0.280000\n",
      "The best score: 0.829114\n"
     ]
    },
    {
     "data": {
      "image/png": "[encoded data removed]",
      "text/plain": [
       "<Figure size 432x432 with 1 Axes>"
      ]
     },
     "metadata": {},
     "output_type": "display_data"
    }
   ],
   "source": [
    "import numpy as np\n",
    "from sklearn.metrics import pairwise_distances\n",
    "\n",
    "\n",
    "def calculate_W(X, sigma, Y=None):\n",
    "    dm = pairwise_distances(X, Y, metric='euclidean')\n",
    "    W = rbf(dm, sigma)\n",
    "    np.fill_diagonal(W, 0)  # 对角线全为 0\n",
    "    return W\n",
    "\n",
    "\n",
    "def one_hot(labels):\n",
    "    '''\n",
    "    对标签做 one_hot 编码\n",
    "\n",
    "    参数\n",
    "    =====\n",
    "    n_classes: \n",
    "    '''\n",
    "    label_dict = dict(enumerate(np.unique(labels)))\n",
    "    n_classes = len(label_dict)  # 类别数\n",
    "    index_dict = {v: k for k, v in label_dict.items()}\n",
    "    Y = np.asanyarray([index_dict[label] for label in labels])\n",
    "    out = Y[:, None] == np.arange(n_classes)\n",
    "    return out.astype(float), label_dict\n",
    "\n",
    "\n",
    "def rbf(x, sigma):\n",
    "    return np.exp((-x) / (2 * sigma**2))\n",
    "\n",
    "\n",
    "class LGC:\n",
    "    def __init__(self, x_l, x_u, y_l, sigma, epochs):\n",
    "        self._epochs = epochs\n",
    "        self._X = np.concatenate([x_l, x_u])\n",
    "        Y_l, self.label_dict = one_hot(y_l)\n",
    "        self.labels = y_l\n",
    "        self.n_classes = len(self.label_dict)\n",
    "        Y_u = np.zeros((x_u.shape[0], self.n_classes))\n",
    "        self._sigma = sigma\n",
    "        self._input = np.concatenate([Y_l, Y_u])\n",
    "\n",
    "    @property\n",
    "    def sigma(self):\n",
    "        return self._sigma\n",
    "\n",
    "    @sigma.setter\n",
    "    def sigma(self, value):\n",
    "        return value\n",
    "\n",
    "    @property\n",
    "    def W(self):\n",
    "        dm = pairwise_distances(self._X, metric='cosine')  # 余弦距离\n",
    "        W = rbf(dm, self.sigma)\n",
    "        np.fill_diagonal(W, 0)  # 对角线全为 0\n",
    "        return W\n",
    "\n",
    "    @property\n",
    "    def D(self):\n",
    "        # calculate D\n",
    "        diago = np.sum(self.W, axis=1)\n",
    "        return np.diag(diago)\n",
    "\n",
    "    @property\n",
    "    def S(self):\n",
    "        d = np.sum(self.W, axis=1)\n",
    "        # S 是 np.sqrt(np.dot(diag(D),diag(D)^T))\n",
    "        S = np.sqrt(d * d[:, np.newaxis])\n",
    "        return np.divide(self.W, S, where=S != 0)\n",
    "\n",
    "    def fit(self, alpha):\n",
    "        self.F = self._input\n",
    "        for t in range(self._epochs):\n",
    "            self.F = np.dot(self.S, self.F) * alpha + (1 - alpha) * self._input\n",
    "\n",
    "    def score(self, y_u):\n",
    "        return (self.F.argmax(1)[len(self.labels):] == y_u).mean()\n",
    "\n",
    "\n",
    "def test_lgc(lgc_params):\n",
    "    from matplotlib import pyplot as plt\n",
    "    lc = np.arange(.1, 1, 0.09)\n",
    "    lscore = []\n",
    "\n",
    "    for c in lc:\n",
    "        model = LGC(*lgc_params)\n",
    "        model.fit(c)\n",
    "        lscore.append(model.score(y_u))\n",
    "\n",
    "    print(\"The best c: %f\" % lc[np.argmax(np.array(lscore))])\n",
    "    print(\"The best score: %f\" % np.max(np.array(lscore)))\n",
    "    plt.figure(figsize=(6, 6))\n",
    "    plt.plot(lc, lscore)\n",
    "    plt.title('The lgc score influenced by alpha')\n",
    "    plt.xlabel('alpha')\n",
    "    plt.ylabel('accuracy')\n",
    "    plt.grid()\n",
    "    plt.show()\n",
    "\n",
    "\n",
    "if __name__ == \"__main__\":\n",
    "    from sklearn.datasets import make_moons\n",
    "    n = 800  # 样本数\n",
    "    n_labeled = 10  # 有标签样本数\n",
    "    X, Y = make_moons(n, shuffle=True, noise=0.1, random_state=1000)\n",
    "    x_l, x_u = X[:n_labeled], X[n_labeled:]\n",
    "    y_l, y_u = Y[:n_labeled], Y[n_labeled:]\n",
    "    epochs = 200\n",
    "    sigma = .2\n",
    "    lgc_params = x_l, x_u, y_l, sigma, epochs\n",
    "    test_lgc(lgc_params)"
   ]
  },
  {
   "cell_type": "code",
   "execution_count": 1,
   "metadata": {},
   "outputs": [],
   "source": [
    "from mxnet import nd"
   ]
  },
  {
   "cell_type": "code",
   "execution_count": 2,
   "metadata": {},
   "outputs": [],
   "source": [
    "a = nd.array([1, 2, 3, 4])"
   ]
  },
  {
   "cell_type": "code",
   "execution_count": 7,
   "metadata": {},
   "outputs": [],
   "source": [
    "import numpy as np\n",
    "from sklearn.metrics import pairwise_distances"
   ]
  },
  {
   "cell_type": "code",
   "execution_count": 8,
   "metadata": {},
   "outputs": [],
   "source": [
    "pairwise_distances??"
   ]
  },
  {
   "cell_type": "code",
   "execution_count": null,
   "metadata": {},
   "outputs": [],
   "source": []
  }
 ],
 "metadata": {
  "kernelspec": {
   "display_name": "gluoncv",
   "language": "python",
   "name": "gluoncv"
  },
  "language_info": {
   "codemirror_mode": {
    "name": "ipython",
    "version": 3
   },
   "file_extension": ".py",
   "mimetype": "text/x-python",
   "name": "python",
   "nbconvert_exporter": "python",
   "pygments_lexer": "ipython3",
   "version": "3.7.2"
  },
  "latex_envs": {
   "LaTeX_envs_menu_present": true,
   "autoclose": false,
   "autocomplete": true,
   "bibliofile": "biblio.bib",
   "cite_by": "apalike",
   "current_citInitial": 1,
   "eqLabelWithNumbers": true,
   "eqNumInitial": 1,
   "hotkeys": {
    "equation": "Ctrl-E",
    "itemize": "Ctrl-I"
   },
   "labels_anchors": false,
   "latex_user_defs": false,
   "report_style_numbering": false,
   "user_envs_cfg": false
  },
  "nbTranslate": {
   "displayLangs": [
    "*"
   ],
   "hotkey": "alt-t",
   "langInMainMenu": true,
   "sourceLang": "en",
   "targetLang": "fr",
   "useGoogleTranslate": true
  },
  "toc": {
   "base_numbering": 1,
   "nav_menu": {},
   "number_sections": true,
   "sideBar": true,
   "skip_h1_title": false,
   "title_cell": "Table of Contents",
   "title_sidebar": "Contents",
   "toc_cell": false,
   "toc_position": {},
   "toc_section_display": true,
   "toc_window_display": false
  },
  "varInspector": {
   "cols": {
    "lenName": 16,
    "lenType": 16,
    "lenVar": 40
   },
   "kernels_config": {
    "python": {
     "delete_cmd_postfix": "",
     "delete_cmd_prefix": "del ",
     "library": "var_list.py",
     "varRefreshCmd": "print(var_dic_list())"
    },
    "r": {
     "delete_cmd_postfix": ") ",
     "delete_cmd_prefix": "rm(",
     "library": "var_list.r",
     "varRefreshCmd": "cat(var_dic_list()) "
    }
   },
   "types_to_exclude": [
    "module",
    "function",
    "builtin_function_or_method",
    "instance",
    "_Feature"
   ],
   "window_display": false
  }
 },
 "nbformat": 4,
 "nbformat_minor": 2
}
